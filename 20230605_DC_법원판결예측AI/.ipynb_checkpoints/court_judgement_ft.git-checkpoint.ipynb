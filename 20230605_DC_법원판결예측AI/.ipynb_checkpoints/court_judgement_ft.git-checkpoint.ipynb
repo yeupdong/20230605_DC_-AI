{
 "cells": [
  {
   "cell_type": "markdown",
   "id": "59251faa",
   "metadata": {},
   "source": [
    "# importing libraries"
   ]
  },
  {
   "cell_type": "code",
   "execution_count": 29,
   "id": "eb51d6d5",
   "metadata": {},
   "outputs": [],
   "source": [
    "import pandas as pd\n",
    "import numpy as np\n",
    "import matplotlib as plt\n",
    "\n",
    "from sklearn.model_selection import train_test_split\n",
    "from sklearn.metrics import classification_report\n",
    "from sklearn.feature_extraction.text import TfidfVectorizer\n",
    "\n",
    "from sklearn.neural_network import MLPClassifier\n",
    "from sklearn.linear_model import Perceptron\n",
    "from sklearn.svm import LinearSVC\n",
    "from sklearn.linear_model import LogisticRegression\n",
    "from sklearn.naive_bayes import MultinomialNB\n",
    "from sklearn.neighbors import KNeighborsClassifier\n",
    "from sklearn.ensemble import VotingClassifier\n",
    "from sklearn.calibration import CalibratedClassifierCV\n",
    "\n",
    "import nltk\n",
    "from gensim.models.doc2vec import Doc2Vec, TaggedDocument\n",
    "from nltk.tokenize import RegexpTokenizer\n",
    "\n",
    "import tensorflow as tf\n",
    "from tensorflow import keras\n",
    "from tensorflow.keras import layers\n",
    "\n",
    "import seaborn as sns"
   ]
  },
  {
   "cell_type": "code",
   "execution_count": 30,
   "id": "26f27460",
   "metadata": {},
   "outputs": [],
   "source": [
    "# To display full facts\n",
    "\n",
    "pd.set_option('display.max_colwidth', None)"
   ]
  },
  {
   "cell_type": "code",
   "execution_count": 31,
   "id": "e5e9210c",
   "metadata": {},
   "outputs": [
    {
     "data": {
      "text/html": [
       "<div>\n",
       "<style scoped>\n",
       "    .dataframe tbody tr th:only-of-type {\n",
       "        vertical-align: middle;\n",
       "    }\n",
       "\n",
       "    .dataframe tbody tr th {\n",
       "        vertical-align: top;\n",
       "    }\n",
       "\n",
       "    .dataframe thead th {\n",
       "        text-align: right;\n",
       "    }\n",
       "</style>\n",
       "<table border=\"1\" class=\"dataframe\">\n",
       "  <thead>\n",
       "    <tr style=\"text-align: right;\">\n",
       "      <th></th>\n",
       "      <th>ID</th>\n",
       "      <th>first_party</th>\n",
       "      <th>second_party</th>\n",
       "      <th>facts</th>\n",
       "      <th>first_party_winner</th>\n",
       "    </tr>\n",
       "  </thead>\n",
       "  <tbody>\n",
       "    <tr>\n",
       "      <th>0</th>\n",
       "      <td>TRAIN_0000</td>\n",
       "      <td>Phil A. St. Amant</td>\n",
       "      <td>Herman A. Thompson</td>\n",
       "      <td>On June 27, 1962, Phil St. Amant, a candidate for public office, made a television speech in Baton Rouge, Louisiana.  During this speech, St. Amant accused his political opponent of being a Communist and of being involved in criminal activities with the head of the local Teamsters Union.  Finally, St. Amant implicated Herman Thompson, an East Baton Rouge deputy sheriff, in a scheme to move money between the Teamsters Union and St. Amant’s political opponent. \\nThompson successfully sued St. Amant for defamation.  Louisiana’s First Circuit Court of Appeals reversed, holding that Thompson did not show St. Amant acted with “malice.”  Thompson then appealed to the Supreme Court of Louisiana.  That court held that, although public figures forfeit some of their First Amendment protection from defamation, St. Amant accused Thompson of a crime with utter disregard of whether the remarks were true.  Finally, that court held that the First Amendment protects uninhibited, robust debate, rather than an open season to shoot down the good name of anyone who happens to be a public servant. \\n</td>\n",
       "      <td>1</td>\n",
       "    </tr>\n",
       "    <tr>\n",
       "      <th>1</th>\n",
       "      <td>TRAIN_0001</td>\n",
       "      <td>Stephen Duncan</td>\n",
       "      <td>Lawrence Owens</td>\n",
       "      <td>Ramon Nelson was riding his bike when he suffered a lethal blow to the back of his head with a baseball bat. After two eyewitnesses identified Lawrence Owens from an array of photos and then a lineup, he was tried and convicted for Nelson’s death. Because Nelson was carrying cocaine and crack cocaine potentially for distribution, the judge at Owens’ bench trial ruled that Owens was probably also a drug dealer and was trying to “knock [Nelson] off.” Owens was found guilty of first-degree murder and sentenced to 25 years in prison.\\nOwens filed a petition for a writ of habeas corpus on the grounds that his constitutional right to due process was violated during the trial. He argued that the eyewitness identification should have been inadmissible based on unreliability and that the judge impermissibly inferred a motive when a motive was not an element of the offense. The district court denied the writ of habeas corpus, and Owens appealed. The U.S. Court of Appeals for the Seventh Circuit reversed the denial and held that the trial judge’s inference about Owens’s motive violated his right to have his guilt adjudicated solely based on the evidence presented at trial.\\n</td>\n",
       "      <td>0</td>\n",
       "    </tr>\n",
       "    <tr>\n",
       "      <th>2</th>\n",
       "      <td>TRAIN_0002</td>\n",
       "      <td>Billy Joe Magwood</td>\n",
       "      <td>Tony Patterson, Warden, et al.</td>\n",
       "      <td>An Alabama state court convicted Billy Joe Magwood of murder and sentenced him to death. Subsequently, an Alabama federal district court partially granted Mr. Magwood's petition for federal habeas corpus relief. The court upheld his conviction but instructed the state court to look at mitigating evidence when resentencing Mr. Magwood. Upon resentencing, the state court sentenced Mr. Magwood to death once again. Mr. Magwood filed a second petition for federal habeas corpus relief with the federal district court arguing that a judicial rule was retroactively applied in his case and that he lacked effective counsel at sentencing. The district court granted the petition and vacated Mr. Magwood's death sentence.\\nOn appeal, the U.S. Court of Appeals for the Eleventh circuit reversed, holding that prisoners may not raise challenges to an original sentence that could have been raised in an earlier petition. The court also held that Mr. Magwood's counsel was not ineffective because he failed to raise an argument that had already been decided by the state's highest court adverse to his client's position.\\n</td>\n",
       "      <td>1</td>\n",
       "    </tr>\n",
       "    <tr>\n",
       "      <th>3</th>\n",
       "      <td>TRAIN_0003</td>\n",
       "      <td>Linkletter</td>\n",
       "      <td>Walker</td>\n",
       "      <td>Victor Linkletter was convicted in state court on evidence illegally obtained by police prior to the Supreme Court decision concerning the Fourth Amendment in Mapp v. Ohio. Mapp applied the exclusionary rule to state criminal proceedings, denying the use of illegally obtained evidence at trial. Linkletter argued for a retrial based on the Mapp decision.\\n</td>\n",
       "      <td>0</td>\n",
       "    </tr>\n",
       "    <tr>\n",
       "      <th>4</th>\n",
       "      <td>TRAIN_0004</td>\n",
       "      <td>William Earl Fikes</td>\n",
       "      <td>Alabama</td>\n",
       "      <td>On April 24, 1953 in Selma, Alabama, an intruder broke into the apartment of the daughter of the city mayor. The daughter and the intruder struggled through several rooms until she was able to seize his knife, and he fled. The assailant had a towel over his head, so the victim could not identify the defendant during the trial. The police apprehended William Earl Fikes on the basis of a call from a private citizen and held him “on an open charge of investigation.” The police questioned Fikes for hours, placed him in jail, and limited his access to anyone familiar. After nearly a week of this treatment, Fikes confessed in the form of answers to the interrogator’s leading questions. Five days later, Fikes confessed under questioning a second time. When these confessions were admitted into the trial as evidence, Fikes did not testify regarding the events surrounding his interrogation because the judge had ruled he would be subjected to unlimited cross-examination. The jury convicted Fikes and sentenced him to death. The Supreme Court of Alabama affirmed.\\n</td>\n",
       "      <td>1</td>\n",
       "    </tr>\n",
       "  </tbody>\n",
       "</table>\n",
       "</div>"
      ],
      "text/plain": [
       "           ID         first_party                    second_party  \\\n",
       "0  TRAIN_0000   Phil A. St. Amant              Herman A. Thompson   \n",
       "1  TRAIN_0001      Stephen Duncan                  Lawrence Owens   \n",
       "2  TRAIN_0002   Billy Joe Magwood  Tony Patterson, Warden, et al.   \n",
       "3  TRAIN_0003          Linkletter                          Walker   \n",
       "4  TRAIN_0004  William Earl Fikes                         Alabama   \n",
       "\n",
       "                                                                                                                                                                                                                                                                                                                                                                                                                                                                                                                                                                                                                                                                                                                                                                                                                                                                                                                                                                                                                                                                                                                                                                                                                            facts  \\\n",
       "0                                                                                          On June 27, 1962, Phil St. Amant, a candidate for public office, made a television speech in Baton Rouge, Louisiana.  During this speech, St. Amant accused his political opponent of being a Communist and of being involved in criminal activities with the head of the local Teamsters Union.  Finally, St. Amant implicated Herman Thompson, an East Baton Rouge deputy sheriff, in a scheme to move money between the Teamsters Union and St. Amant’s political opponent. \\nThompson successfully sued St. Amant for defamation.  Louisiana’s First Circuit Court of Appeals reversed, holding that Thompson did not show St. Amant acted with “malice.”  Thompson then appealed to the Supreme Court of Louisiana.  That court held that, although public figures forfeit some of their First Amendment protection from defamation, St. Amant accused Thompson of a crime with utter disregard of whether the remarks were true.  Finally, that court held that the First Amendment protects uninhibited, robust debate, rather than an open season to shoot down the good name of anyone who happens to be a public servant. \\n   \n",
       "1  Ramon Nelson was riding his bike when he suffered a lethal blow to the back of his head with a baseball bat. After two eyewitnesses identified Lawrence Owens from an array of photos and then a lineup, he was tried and convicted for Nelson’s death. Because Nelson was carrying cocaine and crack cocaine potentially for distribution, the judge at Owens’ bench trial ruled that Owens was probably also a drug dealer and was trying to “knock [Nelson] off.” Owens was found guilty of first-degree murder and sentenced to 25 years in prison.\\nOwens filed a petition for a writ of habeas corpus on the grounds that his constitutional right to due process was violated during the trial. He argued that the eyewitness identification should have been inadmissible based on unreliability and that the judge impermissibly inferred a motive when a motive was not an element of the offense. The district court denied the writ of habeas corpus, and Owens appealed. The U.S. Court of Appeals for the Seventh Circuit reversed the denial and held that the trial judge’s inference about Owens’s motive violated his right to have his guilt adjudicated solely based on the evidence presented at trial.\\n   \n",
       "2                                                                      An Alabama state court convicted Billy Joe Magwood of murder and sentenced him to death. Subsequently, an Alabama federal district court partially granted Mr. Magwood's petition for federal habeas corpus relief. The court upheld his conviction but instructed the state court to look at mitigating evidence when resentencing Mr. Magwood. Upon resentencing, the state court sentenced Mr. Magwood to death once again. Mr. Magwood filed a second petition for federal habeas corpus relief with the federal district court arguing that a judicial rule was retroactively applied in his case and that he lacked effective counsel at sentencing. The district court granted the petition and vacated Mr. Magwood's death sentence.\\nOn appeal, the U.S. Court of Appeals for the Eleventh circuit reversed, holding that prisoners may not raise challenges to an original sentence that could have been raised in an earlier petition. The court also held that Mr. Magwood's counsel was not ineffective because he failed to raise an argument that had already been decided by the state's highest court adverse to his client's position.\\n   \n",
       "3                                                                                                                                                                                                                                                                                                                                                                                                                                                                                                                                                                                                                                                                                                                                                                                                                                                           Victor Linkletter was convicted in state court on evidence illegally obtained by police prior to the Supreme Court decision concerning the Fourth Amendment in Mapp v. Ohio. Mapp applied the exclusionary rule to state criminal proceedings, denying the use of illegally obtained evidence at trial. Linkletter argued for a retrial based on the Mapp decision.\\n   \n",
       "4                                                                                                                    On April 24, 1953 in Selma, Alabama, an intruder broke into the apartment of the daughter of the city mayor. The daughter and the intruder struggled through several rooms until she was able to seize his knife, and he fled. The assailant had a towel over his head, so the victim could not identify the defendant during the trial. The police apprehended William Earl Fikes on the basis of a call from a private citizen and held him “on an open charge of investigation.” The police questioned Fikes for hours, placed him in jail, and limited his access to anyone familiar. After nearly a week of this treatment, Fikes confessed in the form of answers to the interrogator’s leading questions. Five days later, Fikes confessed under questioning a second time. When these confessions were admitted into the trial as evidence, Fikes did not testify regarding the events surrounding his interrogation because the judge had ruled he would be subjected to unlimited cross-examination. The jury convicted Fikes and sentenced him to death. The Supreme Court of Alabama affirmed.\\n   \n",
       "\n",
       "   first_party_winner  \n",
       "0                   1  \n",
       "1                   0  \n",
       "2                   1  \n",
       "3                   0  \n",
       "4                   1  "
      ]
     },
     "execution_count": 31,
     "metadata": {},
     "output_type": "execute_result"
    }
   ],
   "source": [
    "df = pd.read_csv('train.csv', encoding='utf-8')\n",
    "df.head()"
   ]
  },
  {
   "cell_type": "code",
   "execution_count": 32,
   "id": "faac3c19",
   "metadata": {},
   "outputs": [
    {
     "name": "stdout",
     "output_type": "stream",
     "text": [
      "There are 2478 cases.\n"
     ]
    }
   ],
   "source": [
    "print(f'There are {len(df)} cases.')"
   ]
  },
  {
   "cell_type": "code",
   "execution_count": 33,
   "id": "3c52e5c0",
   "metadata": {},
   "outputs": [
    {
     "name": "stdout",
     "output_type": "stream",
     "text": [
      "<class 'pandas.core.frame.DataFrame'>\n",
      "RangeIndex: 2478 entries, 0 to 2477\n",
      "Data columns (total 5 columns):\n",
      " #   Column              Non-Null Count  Dtype \n",
      "---  ------              --------------  ----- \n",
      " 0   ID                  2478 non-null   object\n",
      " 1   first_party         2478 non-null   object\n",
      " 2   second_party        2478 non-null   object\n",
      " 3   facts               2478 non-null   object\n",
      " 4   first_party_winner  2478 non-null   int64 \n",
      "dtypes: int64(1), object(4)\n",
      "memory usage: 96.9+ KB\n"
     ]
    }
   ],
   "source": [
    "# To check types of columns\n",
    "\n",
    "df.info()"
   ]
  },
  {
   "cell_type": "code",
   "execution_count": 34,
   "id": "12eb6195",
   "metadata": {},
   "outputs": [
    {
     "data": {
      "text/plain": [
       "ID                    0\n",
       "first_party           0\n",
       "second_party          0\n",
       "facts                 0\n",
       "first_party_winner    0\n",
       "dtype: int64"
      ]
     },
     "execution_count": 34,
     "metadata": {},
     "output_type": "execute_result"
    }
   ],
   "source": [
    "# To check missing values in the dataset\n",
    "\n",
    "df.isna().sum()"
   ]
  },
  {
   "cell_type": "markdown",
   "id": "a640d6b1",
   "metadata": {},
   "source": [
    "# statistics"
   ]
  },
  {
   "cell_type": "code",
   "execution_count": 35,
   "id": "3b84de0c",
   "metadata": {},
   "outputs": [
    {
     "name": "stdout",
     "output_type": "stream",
     "text": [
      "Average number of characters in facts: 1109.0564971751412\n",
      "Average number of characters in facts: 1109\n",
      "Average number of words in facts: 173.90153349475383\n",
      "Average number of words in facts: 174\n"
     ]
    }
   ],
   "source": [
    "# facts의 평균 알파벳수\n",
    "avg_char = df['facts'].apply(lambda x: len(str(x))).mean()\n",
    "print(f'Average number of characters in facts: {avg_char}')\n",
    "\n",
    "# 1의 자리로 표현\n",
    "print(f'Average number of characters in facts: {avg_char:.0f}')\n",
    "\n",
    "# facts의 평균 단어수\n",
    "avg_word = df['facts'].apply(lambda x: len(str(x).split())).mean()\n",
    "print(f'Average number of words in facts: {avg_word}')\n",
    "\n",
    "# 1의 자리로 표현\n",
    "print(f'Average number of words in facts: {avg_word:.0f}')\n",
    "\n",
    "# del함수 = 오브젝트 내용 삭제\n",
    "del avg_char, avg_word"
   ]
  },
  {
   "cell_type": "code",
   "execution_count": 36,
   "id": "0292cf44",
   "metadata": {},
   "outputs": [
    {
     "data": {
      "text/plain": [
       "count    2478.000000\n",
       "mean     1109.056497\n",
       "std       515.510744\n",
       "min        15.000000\n",
       "25%       771.250000\n",
       "50%      1048.000000\n",
       "75%      1373.750000\n",
       "max      5795.000000\n",
       "Name: facts, dtype: float64"
      ]
     },
     "execution_count": 36,
     "metadata": {},
     "output_type": "execute_result"
    }
   ],
   "source": [
    "# facts의 알파벳 스탯\n",
    "df['facts'].apply(lambda x: len(str(x))).describe()"
   ]
  },
  {
   "cell_type": "code",
   "execution_count": 37,
   "id": "a6eded9b",
   "metadata": {},
   "outputs": [
    {
     "data": {
      "text/plain": [
       "count    2478.000000\n",
       "mean      173.901533\n",
       "std        82.177924\n",
       "min         2.000000\n",
       "25%       120.000000\n",
       "50%       164.000000\n",
       "75%       217.750000\n",
       "max       932.000000\n",
       "Name: facts, dtype: float64"
      ]
     },
     "execution_count": 37,
     "metadata": {},
     "output_type": "execute_result"
    }
   ],
   "source": [
    "# facts의 단어 스탯\n",
    "df['facts'].apply(lambda x: len(str(x).split())).describe()"
   ]
  },
  {
   "cell_type": "markdown",
   "id": "d0be6b35",
   "metadata": {},
   "source": [
    "# data processing"
   ]
  },
  {
   "cell_type": "code",
   "execution_count": 38,
   "id": "b4955317",
   "metadata": {},
   "outputs": [],
   "source": [
    "plt_name = []\n",
    "defd_name = []\n",
    "for i in range(df.shape[0]):\n",
    "    fact = df['facts'][i]\n",
    "    plaintiff = df['first_party'][i]\n",
    "    defendant = df['second_party'][i]\n",
    "    p = True\n",
    "    d = True\n",
    "    for _ in plaintiff.split():\n",
    "        if _ in fact:\n",
    "            p = True\n",
    "            break\n",
    "        else:\n",
    "            p = False\n",
    "    if p == False:\n",
    "        plt_name.append(i)\n",
    "    for _ in defendant.split():\n",
    "        if _ in fact:\n",
    "            d = True\n",
    "            break\n",
    "        else:\n",
    "            d = False\n",
    "    if d == False:\n",
    "        defd_name.append(i)"
   ]
  },
  {
   "cell_type": "code",
   "execution_count": 39,
   "id": "062e9779",
   "metadata": {},
   "outputs": [
    {
     "name": "stdout",
     "output_type": "stream",
     "text": [
      "percentage of missing plaintiff's name: 16.34%\n",
      "percentage of missing defendant's name: 18.97%\n",
      "percentage of missing both party's name: 3.31%\n"
     ]
    }
   ],
   "source": [
    "per_missing_plt = len(plt_name) / len(df) * 100\n",
    "print('percentage of missing plaintiff\\'s name: {:.2f}%'.format(per_missing_plt))\n",
    "\n",
    "per_missing_defd = len(defd_name) / len(df) * 100\n",
    "print('percentage of missing defendant\\'s name: {:.2f}%'.format(per_missing_defd))\n",
    "\n",
    "per_missing_both = len(set(set(plt_name) & set(defd_name))) / len(df) * 100\n",
    "print('percentage of missing both party\\'s name: {:.2f}%'.format(per_missing_both))"
   ]
  },
  {
   "cell_type": "markdown",
   "id": "6c5e1023",
   "metadata": {},
   "source": [
    "# imbalance in label class"
   ]
  },
  {
   "cell_type": "code",
   "execution_count": 40,
   "id": "155ec7f0",
   "metadata": {},
   "outputs": [
    {
     "name": "stdout",
     "output_type": "stream",
     "text": [
      "first_party_winner\n",
      "1    1649\n",
      "0     829\n",
      "Name: count, dtype: int64\n"
     ]
    },
    {
     "data": {
      "text/plain": [
       "<Axes: ylabel='Type'>"
      ]
     },
     "execution_count": 40,
     "metadata": {},
     "output_type": "execute_result"
    },
    {
     "data": {
      "image/png": "[encoded data removed]",
      "text/plain": [
       "<Figure size 640x480 with 1 Axes>"
      ]
     },
     "metadata": {},
     "output_type": "display_data"
    }
   ],
   "source": [
    "print(df['first_party_winner'].value_counts())\n",
    "\n",
    "df.groupby('first_party_winner').size().plot(kind = 'pie', \n",
    "                                             y = 'first_party_winner',\n",
    "                                             label = 'Type',\n",
    "                                             autopct = '%1.1f%%'\n",
    "                                            )"
   ]
  },
  {
   "cell_type": "markdown",
   "id": "ceafa40d",
   "metadata": {},
   "source": [
    "# TTS"
   ]
  },
  {
   "cell_type": "code",
   "execution_count": 41,
   "id": "8a30e8b8",
   "metadata": {},
   "outputs": [],
   "source": [
    "X_train, X_test, y_train, y_test = \\\n",
    "train_test_split(df[['first_party_winner', 'facts']],\n",
    "                df['first_party_winner'],\n",
    "                test_size = 0.2,\n",
    "                stratify = df['first_party_winner'],\n",
    "                random_state = 0\n",
    "                )"
   ]
  },
  {
   "cell_type": "code",
   "execution_count": 42,
   "id": "9a29a5d5",
   "metadata": {},
   "outputs": [
    {
     "name": "stdout",
     "output_type": "stream",
     "text": [
      "(1319, 2)\n",
      "(663, 2)\n"
     ]
    }
   ],
   "source": [
    "plaintiff = X_train[X_train['first_party_winner'] == 1]\n",
    "defendant = X_train[X_train['first_party_winner'] == 0]\n",
    "print(plaintiff.shape)\n",
    "print(defendant.shape)"
   ]
  },
  {
   "cell_type": "markdown",
   "id": "7e0c12b5",
   "metadata": {},
   "source": [
    "# Upsampling train data"
   ]
  },
  {
   "cell_type": "code",
   "execution_count": 43,
   "id": "97ffe34b",
   "metadata": {},
   "outputs": [],
   "source": [
    "from sklearn.utils import resample\n",
    "upsample_defendant = resample(defendant,\n",
    "                              replace = True,\n",
    "                              n_samples = len(plaintiff),\n",
    "                               random_state = 0\n",
    "                              )"
   ]
  },
  {
   "cell_type": "code",
   "execution_count": 44,
   "id": "477ad67f",
   "metadata": {},
   "outputs": [
    {
     "name": "stdout",
     "output_type": "stream",
     "text": [
      "first_party_winner\n",
      "0    1319\n",
      "1    1319\n",
      "Name: count, dtype: int64\n"
     ]
    },
    {
     "data": {
      "text/plain": [
       "<Axes: ylabel='Type'>"
      ]
     },
     "execution_count": 44,
     "metadata": {},
     "output_type": "execute_result"
    },
    {
     "data": {
      "image/png": "[encoded data removed]",
      "text/plain": [
       "<Figure size 640x480 with 1 Axes>"
      ]
     },
     "metadata": {},
     "output_type": "display_data"
    }
   ],
   "source": [
    "upsample_train = pd.concat([upsample_defendant, plaintiff])\n",
    "\n",
    "print(upsample_train['first_party_winner'].value_counts())\n",
    "\n",
    "upsample_train.groupby('first_party_winner').size().plot(kind = 'pie',\n",
    "                                                        y = 'first_party_winner',\n",
    "                                                        label = 'Type',\n",
    "                                                        autopct = '%1.1f%%'\n",
    "                                                        )"
   ]
  },
  {
   "cell_type": "code",
   "execution_count": 45,
   "id": "b3e91437",
   "metadata": {},
   "outputs": [],
   "source": [
    "# shuffle dataset\n",
    "\n",
    "shuffled_data = np.arange(upsample_train.shape[0])\n",
    "np.random.shuffle(shuffled_data)"
   ]
  },
  {
   "cell_type": "code",
   "execution_count": 46,
   "id": "4e7e7d67",
   "metadata": {},
   "outputs": [],
   "source": [
    "shuffled_train = upsample_train.iloc[shuffled_data,:]\n",
    "\n",
    "X_train = shuffled_train['facts']\n",
    "y_train = shuffled_train['first_party_winner']"
   ]
  },
  {
   "cell_type": "code",
   "execution_count": 47,
   "id": "d315c0e9",
   "metadata": {},
   "outputs": [],
   "source": [
    "X_test = X_test['facts']"
   ]
  },
  {
   "cell_type": "markdown",
   "id": "9bb827be",
   "metadata": {},
   "source": [
    "# Simple neural network"
   ]
  },
  {
   "cell_type": "code",
   "execution_count": 48,
   "id": "695e2648",
   "metadata": {},
   "outputs": [],
   "source": [
    "# tokenizer 모델 정의\n",
    "\n",
    "def nltk_tokenizer(_wd):\n",
    "    return RegexpTokenizer(r'\\w+').tokenize(_wd.lower())"
   ]
  },
  {
   "cell_type": "code",
   "execution_count": 51,
   "id": "03db731c",
   "metadata": {},
   "outputs": [],
   "source": [
    "# X data를 데이터프레임 형식으로 변환\n",
    "\n",
    "X_train_frame = X_train.to_frame()\n",
    "X_test_frame = X_test.to_frame()\n",
    "\n",
    "# tokenize facts\n",
    "X_train_frame['tokenized_facts'] = X_train_frame['facts'].apply(nltk_tokenizer)\n",
    "X_test_frame['tokenized_facts'] = X_test_frame['facts'].apply(nltk_tokenizer)\n",
    "\n",
    "# Doc2Vec 모델을 사용하기위한 형식 변경\n",
    "tokens_train = X_train_frame['tokenized_facts'].to_list()\n",
    "docs_train = [TaggedDocument(t, [str(i)]) for i, t in enumerate(tokens_train)]\n",
    "tokens_test = X_test_frame['tokenized_facts'].to_list()\n",
    "docs_test = [TaggedDocument(t, [str(i)]) for i, t in enumerate(tokens_test)]"
   ]
  },
  {
   "cell_type": "code",
   "execution_count": 56,
   "id": "382df31d",
   "metadata": {},
   "outputs": [],
   "source": [
    "# doc2vec 모델 설정하기\n",
    "\n",
    "doc2vec_model = Doc2Vec(vector_size = 50, min_count = 2, epochs = 40, dm = 1, seed = 0)\n",
    "doc2vec_model.build_vocab(docs_train)\n",
    "doc2vec_model.train(docs_train, total_examples = doc2vec_model.corpus_count, epochs = doc2vec_model.epochs)"
   ]
  },
  {
   "cell_type": "code",
   "execution_count": 57,
   "id": "82840c99",
   "metadata": {},
   "outputs": [],
   "source": [
    "# 학습, 평가 데이터셋 벡터화 시키기\n",
    "\n",
    "X_train_dvs = [doc2vec_model.infer_vector(doc) for doc in tokens_train]\n",
    "X_train_dvs = pd.DataFrame(X_train_dvs, index = X_train.index)\n",
    "\n",
    "X_test_dvs = [doc2vec_model.infer_vector(doc) for doc in tokens_test]\n",
    "X_test_dvs = pd.DataFrame(X_test_dvs, index = X_test.index)"
   ]
  },
  {
   "cell_type": "code",
   "execution_count": 58,
   "id": "83d584a9",
   "metadata": {},
   "outputs": [],
   "source": [
    "# Dense layer model 정의\n",
    "\n",
    "def simple_model():\n",
    "    model = keras.Sequential([\n",
    "        layers.Dropout(0,3),\n",
    "        layers.BatchNormalization(),      \n",
    "        layers.Dense(200, activation=\"relu\", kernel_regularizer=\"l1\"),\n",
    "        layers.Dropout(0.3),\n",
    "        layers.BatchNormalization(),\n",
    "        layers.Dense(100, activation=\"relu\", kernel_regularizer=\"l1\"),\n",
    "        layers.Dropout(0.4),\n",
    "        layers.BatchNormalization(),\n",
    "        layers.Dense(50, activation=\"relu\"),\n",
    "        layers.Dropout(0.4),\n",
    "        layers.BatchNormalization(),\n",
    "        layers.Dense(20, activation=\"relu\"),\n",
    "        layers.Dropout(0.4),\n",
    "        layers.BatchNormalization(),      \n",
    "        layers.Dense(1, activation=\"sigmoid\"),\n",
    "        ])\n",
    "    model.compile(optimizer='adam', loss='binary_crossentropy', metrics=['accuracy'])\n",
    "    \n",
    "    return model"
   ]
  },
  {
   "cell_type": "code",
   "execution_count": 68,
   "id": "beb7a044",
   "metadata": {},
   "outputs": [
    {
     "name": "stdout",
     "output_type": "stream",
     "text": [
      "Epoch 1/30\n",
      "40/40 [==============================] - 2s 27ms/step - loss: 17.8084 - accuracy: 0.5109 - val_loss: 12.8634 - val_accuracy: 0.6252\n",
      "Epoch 2/30\n",
      "40/40 [==============================] - 1s 16ms/step - loss: 9.4323 - accuracy: 0.5503 - val_loss: 6.1056 - val_accuracy: 0.6191\n",
      "Epoch 3/30\n",
      "40/40 [==============================] - 1s 17ms/step - loss: 4.0883 - accuracy: 0.5947 - val_loss: 2.4057 - val_accuracy: 0.5873\n",
      "Epoch 4/30\n",
      "40/40 [==============================] - 1s 16ms/step - loss: 1.6986 - accuracy: 0.6397 - val_loss: 1.3497 - val_accuracy: 0.5766\n",
      "Epoch 5/30\n",
      "40/40 [==============================] - 1s 15ms/step - loss: 1.2268 - accuracy: 0.6609 - val_loss: 1.2009 - val_accuracy: 0.5524\n",
      "Epoch 6/30\n",
      "40/40 [==============================] - 1s 16ms/step - loss: 1.0503 - accuracy: 0.6862 - val_loss: 1.0705 - val_accuracy: 0.5994\n",
      "Epoch 7/30\n",
      "40/40 [==============================] - 1s 15ms/step - loss: 0.9570 - accuracy: 0.7019 - val_loss: 1.0171 - val_accuracy: 0.7132\n",
      "Epoch 8/30\n",
      "40/40 [==============================] - 1s 16ms/step - loss: 0.8559 - accuracy: 0.7206 - val_loss: 0.9439 - val_accuracy: 0.7086\n",
      "Epoch 9/30\n",
      "40/40 [==============================] - 1s 16ms/step - loss: 0.8265 - accuracy: 0.7089 - val_loss: 0.8964 - val_accuracy: 0.7193\n",
      "Epoch 10/30\n",
      "40/40 [==============================] - 1s 15ms/step - loss: 0.7793 - accuracy: 0.7211 - val_loss: 0.8622 - val_accuracy: 0.7269\n",
      "Epoch 11/30\n",
      "40/40 [==============================] - 1s 15ms/step - loss: 0.7564 - accuracy: 0.7185 - val_loss: 0.8165 - val_accuracy: 0.7451\n",
      "Epoch 12/30\n",
      "40/40 [==============================] - 1s 15ms/step - loss: 0.7462 - accuracy: 0.7100 - val_loss: 0.7809 - val_accuracy: 0.7360\n",
      "Epoch 13/30\n",
      "40/40 [==============================] - 1s 15ms/step - loss: 0.7150 - accuracy: 0.7180 - val_loss: 0.7393 - val_accuracy: 0.7557\n",
      "Epoch 14/30\n",
      "40/40 [==============================] - 1s 15ms/step - loss: 0.6797 - accuracy: 0.7292 - val_loss: 0.7055 - val_accuracy: 0.7527\n",
      "Epoch 15/30\n",
      "40/40 [==============================] - 1s 15ms/step - loss: 0.7020 - accuracy: 0.7135 - val_loss: 0.6838 - val_accuracy: 0.7587\n",
      "Epoch 16/30\n",
      "40/40 [==============================] - 1s 15ms/step - loss: 0.6611 - accuracy: 0.7362 - val_loss: 0.6625 - val_accuracy: 0.7511\n",
      "Epoch 17/30\n",
      "40/40 [==============================] - 1s 15ms/step - loss: 0.6746 - accuracy: 0.7226 - val_loss: 0.6690 - val_accuracy: 0.7284\n",
      "Epoch 18/30\n",
      "40/40 [==============================] - 1s 15ms/step - loss: 0.6622 - accuracy: 0.7342 - val_loss: 0.6419 - val_accuracy: 0.7344\n",
      "Epoch 19/30\n",
      "40/40 [==============================] - 1s 15ms/step - loss: 0.6550 - accuracy: 0.7226 - val_loss: 0.6329 - val_accuracy: 0.7420\n",
      "Epoch 20/30\n",
      "40/40 [==============================] - 1s 15ms/step - loss: 0.6477 - accuracy: 0.7302 - val_loss: 0.6258 - val_accuracy: 0.7436\n",
      "Epoch 21/30\n",
      "40/40 [==============================] - 1s 15ms/step - loss: 0.6325 - accuracy: 0.7226 - val_loss: 0.6237 - val_accuracy: 0.7375\n",
      "Epoch 22/30\n",
      "40/40 [==============================] - 1s 15ms/step - loss: 0.6341 - accuracy: 0.7534 - val_loss: 0.6282 - val_accuracy: 0.7466\n",
      "Epoch 23/30\n",
      "40/40 [==============================] - 1s 15ms/step - loss: 0.6330 - accuracy: 0.7418 - val_loss: 0.6117 - val_accuracy: 0.7572\n",
      "Epoch 24/30\n",
      "40/40 [==============================] - 1s 15ms/step - loss: 0.6309 - accuracy: 0.7388 - val_loss: 0.6181 - val_accuracy: 0.7602\n",
      "Epoch 25/30\n",
      "40/40 [==============================] - 1s 15ms/step - loss: 0.6406 - accuracy: 0.7403 - val_loss: 0.6154 - val_accuracy: 0.7618\n",
      "Epoch 26/30\n",
      "40/40 [==============================] - 1s 15ms/step - loss: 0.6175 - accuracy: 0.7524 - val_loss: 0.6185 - val_accuracy: 0.7405\n",
      "Epoch 27/30\n",
      "40/40 [==============================] - 1s 15ms/step - loss: 0.6275 - accuracy: 0.7458 - val_loss: 0.6101 - val_accuracy: 0.7496\n",
      "Epoch 28/30\n",
      "40/40 [==============================] - 1s 15ms/step - loss: 0.6257 - accuracy: 0.7372 - val_loss: 0.6215 - val_accuracy: 0.7466\n",
      "Epoch 29/30\n",
      "40/40 [==============================] - 1s 15ms/step - loss: 0.6235 - accuracy: 0.7418 - val_loss: 0.6071 - val_accuracy: 0.7602\n",
      "Epoch 30/30\n",
      "40/40 [==============================] - 1s 15ms/step - loss: 0.6255 - accuracy: 0.7377 - val_loss: 0.6219 - val_accuracy: 0.7511\n",
      "Epoch 1/30\n",
      "40/40 [==============================] - 2s 30ms/step - loss: 17.8464 - accuracy: 0.5189 - val_loss: 12.9916 - val_accuracy: 0.5311\n",
      "Epoch 2/30\n",
      "40/40 [==============================] - 1s 16ms/step - loss: 9.6211 - accuracy: 0.5740 - val_loss: 6.3811 - val_accuracy: 0.5357\n",
      "Epoch 3/30\n",
      "40/40 [==============================] - 1s 15ms/step - loss: 4.4341 - accuracy: 0.5791 - val_loss: 2.7125 - val_accuracy: 0.5129\n",
      "Epoch 4/30\n",
      "40/40 [==============================] - 1s 15ms/step - loss: 1.9694 - accuracy: 0.6210 - val_loss: 1.4981 - val_accuracy: 0.4825\n",
      "Epoch 5/30\n",
      "40/40 [==============================] - 1s 16ms/step - loss: 1.3631 - accuracy: 0.6397 - val_loss: 1.3450 - val_accuracy: 0.4825\n",
      "Epoch 6/30\n",
      "40/40 [==============================] - 1s 16ms/step - loss: 1.2366 - accuracy: 0.6589 - val_loss: 1.1844 - val_accuracy: 0.4825\n",
      "Epoch 7/30\n",
      "40/40 [==============================] - 1s 16ms/step - loss: 1.0803 - accuracy: 0.6620 - val_loss: 1.1025 - val_accuracy: 0.4886\n",
      "Epoch 8/30\n",
      "40/40 [==============================] - 1s 15ms/step - loss: 1.0205 - accuracy: 0.6776 - val_loss: 1.0501 - val_accuracy: 0.5569\n",
      "Epoch 9/30\n",
      "40/40 [==============================] - 1s 15ms/step - loss: 0.9536 - accuracy: 0.6766 - val_loss: 0.9709 - val_accuracy: 0.6571\n",
      "Epoch 10/30\n",
      "40/40 [==============================] - 1s 15ms/step - loss: 0.8811 - accuracy: 0.6943 - val_loss: 0.9501 - val_accuracy: 0.7178\n",
      "Epoch 11/30\n",
      "40/40 [==============================] - 1s 15ms/step - loss: 0.8582 - accuracy: 0.6938 - val_loss: 0.8928 - val_accuracy: 0.7208\n",
      "Epoch 12/30\n",
      "40/40 [==============================] - 1s 15ms/step - loss: 0.8238 - accuracy: 0.7125 - val_loss: 0.8353 - val_accuracy: 0.7618\n",
      "Epoch 13/30\n",
      "40/40 [==============================] - 1s 15ms/step - loss: 0.7698 - accuracy: 0.7175 - val_loss: 0.8162 - val_accuracy: 0.7436\n",
      "Epoch 14/30\n",
      "40/40 [==============================] - 1s 15ms/step - loss: 0.7592 - accuracy: 0.7105 - val_loss: 0.7818 - val_accuracy: 0.7572\n",
      "Epoch 15/30\n",
      "40/40 [==============================] - 1s 15ms/step - loss: 0.7553 - accuracy: 0.7079 - val_loss: 0.7308 - val_accuracy: 0.7527\n",
      "Epoch 16/30\n",
      "40/40 [==============================] - 1s 15ms/step - loss: 0.7376 - accuracy: 0.7226 - val_loss: 0.7296 - val_accuracy: 0.7314\n",
      "Epoch 17/30\n",
      "40/40 [==============================] - 1s 15ms/step - loss: 0.6923 - accuracy: 0.7317 - val_loss: 0.7054 - val_accuracy: 0.7602\n",
      "Epoch 18/30\n",
      "40/40 [==============================] - 1s 15ms/step - loss: 0.7107 - accuracy: 0.7196 - val_loss: 0.6787 - val_accuracy: 0.7572\n",
      "Epoch 19/30\n",
      "40/40 [==============================] - 1s 15ms/step - loss: 0.6861 - accuracy: 0.7221 - val_loss: 0.6552 - val_accuracy: 0.7618\n",
      "Epoch 20/30\n",
      "40/40 [==============================] - 1s 15ms/step - loss: 0.6657 - accuracy: 0.7418 - val_loss: 0.6586 - val_accuracy: 0.7314\n",
      "Epoch 21/30\n",
      "40/40 [==============================] - 1s 15ms/step - loss: 0.6605 - accuracy: 0.7332 - val_loss: 0.6363 - val_accuracy: 0.7739\n",
      "Epoch 22/30\n",
      "40/40 [==============================] - 1s 15ms/step - loss: 0.6620 - accuracy: 0.7281 - val_loss: 0.6559 - val_accuracy: 0.7618\n",
      "Epoch 23/30\n",
      "40/40 [==============================] - 1s 15ms/step - loss: 0.6589 - accuracy: 0.7307 - val_loss: 0.6488 - val_accuracy: 0.7466\n",
      "Epoch 24/30\n",
      "40/40 [==============================] - 1s 15ms/step - loss: 0.6636 - accuracy: 0.7307 - val_loss: 0.6591 - val_accuracy: 0.7542\n",
      "Epoch 25/30\n",
      "40/40 [==============================] - 1s 16ms/step - loss: 0.6689 - accuracy: 0.7292 - val_loss: 0.6426 - val_accuracy: 0.7557\n",
      "Epoch 26/30\n",
      "40/40 [==============================] - 1s 16ms/step - loss: 0.6366 - accuracy: 0.7479 - val_loss: 0.6336 - val_accuracy: 0.7633\n",
      "Epoch 27/30\n",
      "40/40 [==============================] - 1s 15ms/step - loss: 0.6479 - accuracy: 0.7327 - val_loss: 0.6308 - val_accuracy: 0.7511\n",
      "Epoch 28/30\n",
      "40/40 [==============================] - 1s 16ms/step - loss: 0.6404 - accuracy: 0.7418 - val_loss: 0.6256 - val_accuracy: 0.7663\n"
     ]
    },
    {
     "name": "stdout",
     "output_type": "stream",
     "text": [
      "Epoch 29/30\n",
      "40/40 [==============================] - 1s 15ms/step - loss: 0.6505 - accuracy: 0.7473 - val_loss: 0.6483 - val_accuracy: 0.7451\n",
      "Epoch 30/30\n",
      "40/40 [==============================] - 1s 15ms/step - loss: 0.6455 - accuracy: 0.7408 - val_loss: 0.6265 - val_accuracy: 0.7663\n",
      "Epoch 1/30\n",
      "40/40 [==============================] - 3s 43ms/step - loss: 17.7272 - accuracy: 0.5114 - val_loss: 12.7765 - val_accuracy: 0.6146\n",
      "Epoch 2/30\n",
      "40/40 [==============================] - 1s 17ms/step - loss: 9.3863 - accuracy: 0.5225 - val_loss: 6.0749 - val_accuracy: 0.6631\n",
      "Epoch 3/30\n",
      "40/40 [==============================] - 1s 17ms/step - loss: 4.0607 - accuracy: 0.5851 - val_loss: 2.3713 - val_accuracy: 0.6555\n",
      "Epoch 4/30\n",
      "40/40 [==============================] - 1s 16ms/step - loss: 1.6685 - accuracy: 0.6347 - val_loss: 1.3047 - val_accuracy: 0.5144\n",
      "Epoch 5/30\n",
      "40/40 [==============================] - 1s 15ms/step - loss: 1.1667 - accuracy: 0.6407 - val_loss: 1.1048 - val_accuracy: 0.5175\n",
      "Epoch 6/30\n",
      "40/40 [==============================] - 1s 15ms/step - loss: 1.0011 - accuracy: 0.6367 - val_loss: 0.9822 - val_accuracy: 0.6692\n",
      "Epoch 7/30\n",
      "40/40 [==============================] - 1s 14ms/step - loss: 0.8803 - accuracy: 0.6549 - val_loss: 0.9084 - val_accuracy: 0.6449\n",
      "Epoch 8/30\n",
      "40/40 [==============================] - 1s 14ms/step - loss: 0.8247 - accuracy: 0.6569 - val_loss: 0.8658 - val_accuracy: 0.7238\n",
      "Epoch 9/30\n",
      "40/40 [==============================] - 1s 15ms/step - loss: 0.7996 - accuracy: 0.6620 - val_loss: 0.8337 - val_accuracy: 0.7208\n",
      "Epoch 10/30\n",
      "40/40 [==============================] - 1s 16ms/step - loss: 0.7672 - accuracy: 0.6908 - val_loss: 0.7890 - val_accuracy: 0.7329\n",
      "Epoch 11/30\n",
      "40/40 [==============================] - 1s 15ms/step - loss: 0.7447 - accuracy: 0.6766 - val_loss: 0.7639 - val_accuracy: 0.7344\n",
      "Epoch 12/30\n",
      "40/40 [==============================] - 1s 15ms/step - loss: 0.7240 - accuracy: 0.7019 - val_loss: 0.7370 - val_accuracy: 0.7314\n",
      "Epoch 13/30\n",
      "40/40 [==============================] - 1s 14ms/step - loss: 0.7256 - accuracy: 0.6897 - val_loss: 0.7127 - val_accuracy: 0.7420\n",
      "Epoch 14/30\n",
      "40/40 [==============================] - 1s 14ms/step - loss: 0.7233 - accuracy: 0.6887 - val_loss: 0.6906 - val_accuracy: 0.7542\n",
      "Epoch 15/30\n",
      "40/40 [==============================] - 1s 14ms/step - loss: 0.7105 - accuracy: 0.6918 - val_loss: 0.6799 - val_accuracy: 0.7496\n",
      "Epoch 16/30\n",
      "40/40 [==============================] - 1s 14ms/step - loss: 0.7042 - accuracy: 0.7009 - val_loss: 0.6483 - val_accuracy: 0.7618\n",
      "Epoch 17/30\n",
      "40/40 [==============================] - 1s 14ms/step - loss: 0.7109 - accuracy: 0.6998 - val_loss: 0.6536 - val_accuracy: 0.7633\n",
      "Epoch 18/30\n",
      "40/40 [==============================] - 1s 14ms/step - loss: 0.6838 - accuracy: 0.7287 - val_loss: 0.6504 - val_accuracy: 0.7572\n",
      "Epoch 19/30\n",
      "40/40 [==============================] - 1s 14ms/step - loss: 0.7065 - accuracy: 0.7049 - val_loss: 0.6486 - val_accuracy: 0.7451\n",
      "Epoch 20/30\n",
      "40/40 [==============================] - 1s 15ms/step - loss: 0.7070 - accuracy: 0.7039 - val_loss: 0.6374 - val_accuracy: 0.7542\n",
      "Epoch 21/30\n",
      "40/40 [==============================] - 1s 15ms/step - loss: 0.7043 - accuracy: 0.7125 - val_loss: 0.6327 - val_accuracy: 0.7800\n",
      "Epoch 22/30\n",
      "40/40 [==============================] - 1s 14ms/step - loss: 0.6924 - accuracy: 0.7125 - val_loss: 0.6548 - val_accuracy: 0.7542\n",
      "Epoch 23/30\n",
      "40/40 [==============================] - 1s 15ms/step - loss: 0.7119 - accuracy: 0.7120 - val_loss: 0.6373 - val_accuracy: 0.7542\n",
      "Epoch 24/30\n",
      "40/40 [==============================] - 1s 15ms/step - loss: 0.6971 - accuracy: 0.7196 - val_loss: 0.6302 - val_accuracy: 0.7709\n",
      "Epoch 25/30\n",
      "40/40 [==============================] - 1s 14ms/step - loss: 0.6974 - accuracy: 0.7120 - val_loss: 0.6251 - val_accuracy: 0.7678\n",
      "Epoch 26/30\n",
      "40/40 [==============================] - 1s 15ms/step - loss: 0.6884 - accuracy: 0.7201 - val_loss: 0.6309 - val_accuracy: 0.7785\n",
      "Epoch 27/30\n",
      "40/40 [==============================] - 1s 16ms/step - loss: 0.6986 - accuracy: 0.7069 - val_loss: 0.6334 - val_accuracy: 0.7527\n",
      "Epoch 28/30\n",
      "40/40 [==============================] - 1s 15ms/step - loss: 0.7038 - accuracy: 0.7302 - val_loss: 0.6178 - val_accuracy: 0.7693\n",
      "Epoch 29/30\n",
      "40/40 [==============================] - 1s 14ms/step - loss: 0.6973 - accuracy: 0.7079 - val_loss: 0.6171 - val_accuracy: 0.7739\n",
      "Epoch 30/30\n",
      "40/40 [==============================] - 1s 15ms/step - loss: 0.7010 - accuracy: 0.7160 - val_loss: 0.6125 - val_accuracy: 0.7815\n",
      "Epoch 1/30\n",
      "40/40 [==============================] - 2s 31ms/step - loss: 17.6563 - accuracy: 0.5250 - val_loss: 12.7718 - val_accuracy: 0.5873\n",
      "Epoch 2/30\n",
      "40/40 [==============================] - 1s 16ms/step - loss: 9.3938 - accuracy: 0.5609 - val_loss: 6.1320 - val_accuracy: 0.6191\n",
      "Epoch 3/30\n",
      "40/40 [==============================] - 1s 16ms/step - loss: 4.1498 - accuracy: 0.5846 - val_loss: 2.4780 - val_accuracy: 0.5933\n",
      "Epoch 4/30\n",
      "40/40 [==============================] - 1s 15ms/step - loss: 1.7543 - accuracy: 0.6513 - val_loss: 1.4150 - val_accuracy: 0.4856\n",
      "Epoch 5/30\n",
      "40/40 [==============================] - 1s 14ms/step - loss: 1.2808 - accuracy: 0.6210 - val_loss: 1.2126 - val_accuracy: 0.4856\n",
      "Epoch 6/30\n",
      "40/40 [==============================] - 1s 15ms/step - loss: 1.1019 - accuracy: 0.6427 - val_loss: 1.0950 - val_accuracy: 0.4856\n",
      "Epoch 7/30\n",
      "40/40 [==============================] - 1s 15ms/step - loss: 1.0130 - accuracy: 0.6549 - val_loss: 1.0414 - val_accuracy: 0.4856\n",
      "Epoch 8/30\n",
      "40/40 [==============================] - 1s 14ms/step - loss: 0.9138 - accuracy: 0.6822 - val_loss: 0.9782 - val_accuracy: 0.5114\n",
      "Epoch 9/30\n",
      "40/40 [==============================] - 1s 15ms/step - loss: 0.8675 - accuracy: 0.6923 - val_loss: 0.9260 - val_accuracy: 0.5599\n",
      "Epoch 10/30\n",
      "40/40 [==============================] - 1s 15ms/step - loss: 0.8444 - accuracy: 0.6852 - val_loss: 0.8872 - val_accuracy: 0.6131\n",
      "Epoch 11/30\n",
      "40/40 [==============================] - 1s 15ms/step - loss: 0.8047 - accuracy: 0.6913 - val_loss: 0.8350 - val_accuracy: 0.6388\n",
      "Epoch 12/30\n",
      "40/40 [==============================] - 1s 15ms/step - loss: 0.7750 - accuracy: 0.6923 - val_loss: 0.7870 - val_accuracy: 0.7405\n",
      "Epoch 13/30\n",
      "40/40 [==============================] - 1s 15ms/step - loss: 0.7423 - accuracy: 0.7069 - val_loss: 0.7731 - val_accuracy: 0.7071\n",
      "Epoch 14/30\n",
      "40/40 [==============================] - 1s 15ms/step - loss: 0.7463 - accuracy: 0.6968 - val_loss: 0.7185 - val_accuracy: 0.7511\n",
      "Epoch 15/30\n",
      "40/40 [==============================] - 1s 15ms/step - loss: 0.7192 - accuracy: 0.7044 - val_loss: 0.6950 - val_accuracy: 0.7375\n",
      "Epoch 16/30\n",
      "40/40 [==============================] - 1s 15ms/step - loss: 0.7134 - accuracy: 0.7241 - val_loss: 0.7023 - val_accuracy: 0.7238\n",
      "Epoch 17/30\n",
      "40/40 [==============================] - 1s 14ms/step - loss: 0.6937 - accuracy: 0.7302 - val_loss: 0.6807 - val_accuracy: 0.7451\n",
      "Epoch 18/30\n",
      "40/40 [==============================] - 1s 15ms/step - loss: 0.6984 - accuracy: 0.7100 - val_loss: 0.6588 - val_accuracy: 0.7572\n",
      "Epoch 19/30\n",
      "40/40 [==============================] - 1s 15ms/step - loss: 0.6692 - accuracy: 0.7276 - val_loss: 0.6552 - val_accuracy: 0.7633\n",
      "Epoch 20/30\n",
      "40/40 [==============================] - 1s 15ms/step - loss: 0.6662 - accuracy: 0.7332 - val_loss: 0.6429 - val_accuracy: 0.7618\n",
      "Epoch 21/30\n",
      "40/40 [==============================] - 1s 15ms/step - loss: 0.6708 - accuracy: 0.7352 - val_loss: 0.6352 - val_accuracy: 0.7602\n",
      "Epoch 22/30\n",
      "40/40 [==============================] - 1s 15ms/step - loss: 0.6671 - accuracy: 0.7428 - val_loss: 0.6422 - val_accuracy: 0.7587\n",
      "Epoch 23/30\n",
      "40/40 [==============================] - 1s 15ms/step - loss: 0.6658 - accuracy: 0.7276 - val_loss: 0.6296 - val_accuracy: 0.7678\n",
      "Epoch 24/30\n",
      "40/40 [==============================] - 1s 15ms/step - loss: 0.6543 - accuracy: 0.7413 - val_loss: 0.6300 - val_accuracy: 0.7648\n",
      "Epoch 25/30\n",
      "40/40 [==============================] - 1s 15ms/step - loss: 0.6560 - accuracy: 0.7509 - val_loss: 0.6344 - val_accuracy: 0.7693\n",
      "Epoch 26/30\n",
      "40/40 [==============================] - 1s 15ms/step - loss: 0.6597 - accuracy: 0.7448 - val_loss: 0.6265 - val_accuracy: 0.7527\n"
     ]
    },
    {
     "name": "stdout",
     "output_type": "stream",
     "text": [
      "Epoch 27/30\n",
      "40/40 [==============================] - 1s 14ms/step - loss: 0.6556 - accuracy: 0.7383 - val_loss: 0.6311 - val_accuracy: 0.7678\n",
      "Epoch 28/30\n",
      "40/40 [==============================] - 1s 14ms/step - loss: 0.6477 - accuracy: 0.7489 - val_loss: 0.6237 - val_accuracy: 0.7693\n",
      "Epoch 29/30\n",
      "40/40 [==============================] - 1s 15ms/step - loss: 0.6411 - accuracy: 0.7448 - val_loss: 0.6214 - val_accuracy: 0.7572\n",
      "Epoch 30/30\n",
      "40/40 [==============================] - 1s 15ms/step - loss: 0.6540 - accuracy: 0.7423 - val_loss: 0.6189 - val_accuracy: 0.7709\n"
     ]
    }
   ],
   "source": [
    "# 학습 및 검증\n",
    "\n",
    "k = 4\n",
    "num_validation_samples = len(X_train_dvs) // k\n",
    "EPOCHS = 30\n",
    "BATCH_SIZE = 50\n",
    "all_loss_histories = []\n",
    "all_val_loss_histories = []\n",
    "all_acc_histories = []\n",
    "all_val_acc_histories = []\n",
    "\n",
    "# 각 검쯩 폴드 마다, 전체 학습 및 이력 저장\n",
    "\n",
    "for fold in range(k):\n",
    "    validation_data = X_train_dvs[num_validation_samples * fold:\n",
    "                          num_validation_samples * (fold + 1)]\n",
    "    validation_targets = y_train[num_validation_samples * fold:\n",
    "                         num_validation_samples * (fold + 1)]\n",
    "    training_data = np.concatenate([\n",
    "        X_train_dvs[:num_validation_samples * fold],\n",
    "        X_train_dvs[num_validation_samples * (fold + 1):]])\n",
    "    training_targets = np.concatenate([\n",
    "        y_train[:num_validation_samples * fold],\n",
    "        y_train[num_validation_samples * (fold + 1):]])\n",
    "    \n",
    "    model_1 = simple_model()\n",
    "    history_1 = model_1.fit(training_data, training_targets, \n",
    "                            validation_data = (validation_data, validation_targets),\n",
    "                           epochs = EPOCHS, batch_size = BATCH_SIZE)\n",
    "    \n",
    "    val_loss_history_1 = history_1.history['val_loss']\n",
    "    val_acc_history_1 = history_1.history['val_accuracy']\n",
    "    loss_history_1 = history_1.history['loss']\n",
    "    acc_history_1 = history_1.history['accuracy']\n",
    "    all_val_loss_histories.append(val_loss_history_1)\n",
    "    all_loss_histories.append(loss_history_1)\n",
    "    all_val_acc_histories.append(val_acc_history_1)\n",
    "    all_acc_histories.append(acc_history_1)\n",
    "    \n",
    "avg_loss_history = [np.mean([x[i] for x in all_loss_histories]) for i in range(EPOCHS)]\n",
    "avg_val_loss_history = [np.mean([x[i] for x in all_val_loss_histories]) for i in range(EPOCHS)]\n",
    "avg_acc_history = [np.mean([x[i] for x in all_acc_histories]) for i in range(EPOCHS)]\n",
    "avg_val_acc_history = [np.mean([x[i] for x in all_val_acc_histories]) for i in range(EPOCHS)]"
   ]
  },
  {
   "cell_type": "code",
   "execution_count": 79,
   "id": "ac206119",
   "metadata": {},
   "outputs": [
    {
     "name": "stdout",
     "output_type": "stream",
     "text": [
      "You must install pydot (`pip install pydot`) and install graphviz (see instructions at https://graphviz.gitlab.io/download/) for plot_model to work.\n"
     ]
    }
   ],
   "source": [
    "keras.utils.plot_model(model_1,show_shapes=True)"
   ]
  },
  {
   "cell_type": "code",
   "execution_count": 74,
   "id": "a2991340",
   "metadata": {},
   "outputs": [
    {
     "data": {
      "text/plain": [
       "0.6993424293895563"
      ]
     },
     "execution_count": 74,
     "metadata": {},
     "output_type": "execute_result"
    }
   ],
   "source": [
    "np.mean(avg_val_acc_history)"
   ]
  },
  {
   "cell_type": "code",
   "execution_count": 92,
   "id": "67d998cc",
   "metadata": {},
   "outputs": [
    {
     "ename": "AttributeError",
     "evalue": "module 'matplotlib' has no attribute 'subplots'",
     "output_type": "error",
     "traceback": [
      "\u001b[0;31m---------------------------------------------------------------------------\u001b[0m",
      "\u001b[0;31mAttributeError\u001b[0m                            Traceback (most recent call last)",
      "Cell \u001b[0;32mIn[92], line 5\u001b[0m\n\u001b[1;32m      1\u001b[0m \u001b[38;5;66;03m# plot loss and accuracy on train, validation data\u001b[39;00m\n\u001b[1;32m      3\u001b[0m plt\u001b[38;5;241m.\u001b[39mstyle\u001b[38;5;241m.\u001b[39muse(\u001b[38;5;124m'\u001b[39m\u001b[38;5;124mggplot\u001b[39m\u001b[38;5;124m'\u001b[39m)\n\u001b[0;32m----> 5\u001b[0m fig, ax\u001b[38;5;241m=\u001b[39m\u001b[43mplt\u001b[49m\u001b[38;5;241;43m.\u001b[39;49m\u001b[43msubplots\u001b[49m(figsize\u001b[38;5;241m=\u001b[39m(\u001b[38;5;241m8\u001b[39m,\u001b[38;5;241m8\u001b[39m))\n\u001b[1;32m      6\u001b[0m ax\u001b[38;5;241m.\u001b[39mplot(avg_loss_history,c\u001b[38;5;241m=\u001b[39m\u001b[38;5;124m'\u001b[39m\u001b[38;5;124mr\u001b[39m\u001b[38;5;124m'\u001b[39m, label\u001b[38;5;241m=\u001b[39m\u001b[38;5;124m\"\u001b[39m\u001b[38;5;124mTraining Loss\u001b[39m\u001b[38;5;124m\"\u001b[39m)\n\u001b[1;32m      7\u001b[0m ax\u001b[38;5;241m.\u001b[39mplot(avg_val_loss_history,c\u001b[38;5;241m=\u001b[39m\u001b[38;5;124m'\u001b[39m\u001b[38;5;124mb\u001b[39m\u001b[38;5;124m'\u001b[39m, label\u001b[38;5;241m=\u001b[39m\u001b[38;5;124m\"\u001b[39m\u001b[38;5;124mValidation Loss\u001b[39m\u001b[38;5;124m\"\u001b[39m)\n",
      "File \u001b[0;32m/opt/homebrew/Caskroom/miniforge/base/envs/tf_court_judgement/lib/python3.9/site-packages/matplotlib/_api/__init__.py:226\u001b[0m, in \u001b[0;36mcaching_module_getattr.<locals>.__getattr__\u001b[0;34m(name)\u001b[0m\n\u001b[1;32m    224\u001b[0m \u001b[38;5;28;01mif\u001b[39;00m name \u001b[38;5;129;01min\u001b[39;00m props:\n\u001b[1;32m    225\u001b[0m     \u001b[38;5;28;01mreturn\u001b[39;00m props[name]\u001b[38;5;241m.\u001b[39m\u001b[38;5;21m__get__\u001b[39m(instance)\n\u001b[0;32m--> 226\u001b[0m \u001b[38;5;28;01mraise\u001b[39;00m \u001b[38;5;167;01mAttributeError\u001b[39;00m(\n\u001b[1;32m    227\u001b[0m     \u001b[38;5;124mf\u001b[39m\u001b[38;5;124m\"\u001b[39m\u001b[38;5;124mmodule \u001b[39m\u001b[38;5;132;01m{\u001b[39;00m\u001b[38;5;28mcls\u001b[39m\u001b[38;5;241m.\u001b[39m\u001b[38;5;18m__module__\u001b[39m\u001b[38;5;132;01m!r}\u001b[39;00m\u001b[38;5;124m has no attribute \u001b[39m\u001b[38;5;132;01m{\u001b[39;00mname\u001b[38;5;132;01m!r}\u001b[39;00m\u001b[38;5;124m\"\u001b[39m)\n",
      "\u001b[0;31mAttributeError\u001b[0m: module 'matplotlib' has no attribute 'subplots'"
     ]
    }
   ],
   "source": [
    "# plot loss and accuracy on train, validation data\n",
    "\n",
    "plt.style.use('ggplot')\n",
    "\n",
    "fig, ax=plt.subplots(figsize=(8,8))\n",
    "ax.plot(avg_loss_history,c='r', label=\"Training Loss\")\n",
    "ax.plot(avg_val_loss_history,c='b', label=\"Validation Loss\")\n",
    "ax.set_xlabel(\"Epochs\")\n",
    "ax.set_ylabel(\"Loss\")\n",
    "ax.legend(['Training Loss','Validation Loss'], loc=\"lower right\")\n",
    "\n",
    "ax2=ax.twinx()\n",
    "ax2.plot(avg_acc_history,c=\"r\",linestyle=\"dashed\", label=\"Training Accuracy\")\n",
    "ax2.plot(avg_val_acc_history,c='b',linestyle=\"dashed\", label=\"Validation Accuracy\")\n",
    "ax2.set_ylabel(\"Accuracy\")\n",
    "ax2.legend([\"Training Accuracy\", \"Validation Accuracy\"], loc=\"upper right\")\n",
    "\n",
    "plt.show()"
   ]
  },
  {
   "cell_type": "code",
   "execution_count": 91,
   "id": "9c6d1fc2",
   "metadata": {},
   "outputs": [
    {
     "name": "stdout",
     "output_type": "stream",
     "text": [
      "16/16 [==============================] - 0s 5ms/step\n"
     ]
    },
    {
     "ename": "TypeError",
     "evalue": "'module' object is not callable",
     "output_type": "error",
     "traceback": [
      "\u001b[0;31m---------------------------------------------------------------------------\u001b[0m",
      "\u001b[0;31mTypeError\u001b[0m                                 Traceback (most recent call last)",
      "Cell \u001b[0;32mIn[91], line 8\u001b[0m\n\u001b[1;32m      5\u001b[0m \u001b[38;5;28;01mfrom\u001b[39;00m \u001b[38;5;21;01msklearn\u001b[39;00m\u001b[38;5;21;01m.\u001b[39;00m\u001b[38;5;21;01mmetrics\u001b[39;00m \u001b[38;5;28;01mimport\u001b[39;00m auc\n\u001b[1;32m      6\u001b[0m auc_1 \u001b[38;5;241m=\u001b[39m auc(fpr_1, tpr_1)\n\u001b[0;32m----> 8\u001b[0m \u001b[43mplt\u001b[49m\u001b[38;5;241;43m.\u001b[39;49m\u001b[43mfigure\u001b[49m\u001b[43m(\u001b[49m\u001b[38;5;241;43m1\u001b[39;49m\u001b[43m)\u001b[49m\n\u001b[1;32m      9\u001b[0m plt\u001b[38;5;241m.\u001b[39mplot([\u001b[38;5;241m0\u001b[39m, \u001b[38;5;241m1\u001b[39m], [\u001b[38;5;241m0\u001b[39m, \u001b[38;5;241m1\u001b[39m], \u001b[38;5;124m'\u001b[39m\u001b[38;5;124mk--\u001b[39m\u001b[38;5;124m'\u001b[39m)\n\u001b[1;32m     10\u001b[0m plt\u001b[38;5;241m.\u001b[39mplot(fpr_1, tpr_1, label\u001b[38;5;241m=\u001b[39m\u001b[38;5;124m'\u001b[39m\u001b[38;5;124mDense layer model (area = \u001b[39m\u001b[38;5;132;01m{:.3f}\u001b[39;00m\u001b[38;5;124m)\u001b[39m\u001b[38;5;124m'\u001b[39m\u001b[38;5;241m.\u001b[39mformat(auc_1))\n",
      "\u001b[0;31mTypeError\u001b[0m: 'module' object is not callable"
     ]
    }
   ],
   "source": [
    "from sklearn.metrics import roc_curve\n",
    "y_pred_1 = model_1.predict(X_test_dvs).ravel()\n",
    "fpr_1, tpr_1, thresholds_1 = roc_curve(y_test, y_pred1)\n",
    "\n",
    "from sklearn.metrics import auc\n",
    "auc_1 = auc(fpr_1, tpr_1)\n",
    "\n",
    "plt.figure(1)\n",
    "plt.plot([0, 1], [0, 1], 'k--')\n",
    "plt.plot(fpr_1, tpr_1, label='Dense layer model (area = {:.3f})'.format(auc_1))\n",
    "plt.xlabel('False positive rate')\n",
    "plt.ylabel('True positive rate')\n",
    "plt.title('ROC curve')\n",
    "plt.legend(loc='best')\n",
    "plt.show()"
   ]
  },
  {
   "cell_type": "code",
   "execution_count": 88,
   "id": "c8f90f06",
   "metadata": {},
   "outputs": [
    {
     "name": "stdout",
     "output_type": "stream",
     "text": [
      "16/16 [==============================] - 0s 13ms/step - loss: 1.1368 - accuracy: 0.6653\n"
     ]
    }
   ],
   "source": [
    "# evaluate the model by using test data\n",
    "loss_metrics = model_1.evaluate(X_test_dvs,y_test,verbose=1)"
   ]
  },
  {
   "cell_type": "code",
   "execution_count": null,
   "id": "60333c5c",
   "metadata": {},
   "outputs": [],
   "source": []
  }
 ],
 "metadata": {
  "kernelspec": {
   "display_name": "tf_court_jedgement",
   "language": "python",
   "name": "tf_court_jedgement"
  },
  "language_info": {
   "codemirror_mode": {
    "name": "ipython",
    "version": 3
   },
   "file_extension": ".py",
   "mimetype": "text/x-python",
   "name": "python",
   "nbconvert_exporter": "python",
   "pygments_lexer": "ipython3",
   "version": "3.9.16"
  },
  "varInspector": {
   "cols": {
    "lenName": 16,
    "lenType": 16,
    "lenVar": 40
   },
   "kernels_config": {
    "python": {
     "delete_cmd_postfix": "",
     "delete_cmd_prefix": "del ",
     "library": "var_list.py",
     "varRefreshCmd": "print(var_dic_list())"
    },
    "r": {
     "delete_cmd_postfix": ") ",
     "delete_cmd_prefix": "rm(",
     "library": "var_list.r",
     "varRefreshCmd": "cat(var_dic_list()) "
    }
   },
   "types_to_exclude": [
    "module",
    "function",
    "builtin_function_or_method",
    "instance",
    "_Feature"
   ],
   "window_display": false
  }
 },
 "nbformat": 4,
 "nbformat_minor": 5
}
